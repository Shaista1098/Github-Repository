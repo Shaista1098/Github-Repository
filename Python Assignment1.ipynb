{
 "cells": [
  {
   "cell_type": "code",
   "execution_count": null,
   "metadata": {},
   "outputs": [],
   "source": [
    "'''1. Predict the following output for the following snippets:\n",
    "print(0.1+0.2)\n",
    "print(\"1.8\"+\"2\")\n",
    "print(87>78)\n",
    "print(\"Predict \" \"Output\",\"\".....\"\")'''\n",
    "\n",
    "0.3\n",
    "1.82\n",
    "True\n",
    "True\n",
    "Predict output ....."
   ]
  },
  {
   "cell_type": "code",
   "execution_count": null,
   "metadata": {},
   "outputs": [],
   "source": [
    "'''2. Predict the output for the following code snippets:\n",
    "print(\"Prints\",\"multiple\",\"messages\\n\")\n",
    "\n",
    "print(\"concatenate \"+\" two strings\\n\")\n",
    "\n",
    "print(\"5+6+\" adds two numbers\\n\")'''\n",
    "\n",
    "Prints multiple messages\n",
    "\n",
    "Concatenate two strings\n",
    "\n",
    "TypeError , Integer and strings cannot be concatenated."
   ]
  },
  {
   "cell_type": "code",
   "execution_count": 3,
   "metadata": {},
   "outputs": [
    {
     "name": "stdout",
     "output_type": "stream",
     "text": [
      "banana\n",
      "C:\\naresh\\raju\\abhi\n"
     ]
    }
   ],
   "source": [
    "'''3. Correct the given code snippets(only one change is allowed)\n",
    "print(\"ba\"\"na\"*2) Use appropriate operator to print banana\n",
    "print(\"C:\\naresh\\raju\\abhi\")Correct the code to print C:\\naresh\\raju\\abhi'''\n",
    "\n",
    "print(\"ba\"+\"na\"*2)\n",
    "print(r\"C:\\naresh\\raju\\abhi\")"
   ]
  },
  {
   "cell_type": "code",
   "execution_count": 5,
   "metadata": {},
   "outputs": [
    {
     "name": "stdout",
     "output_type": "stream",
     "text": [
      "g anytoW\n",
      "sscc\n"
     ]
    }
   ],
   "source": [
    "'''4. Correct the given code snippets \n",
    "'Welcome to python traing program'[-14:24:-4] should print 'g anytow'\n",
    "'A series of characters designated as one object is known as a string'[::] should print 'sscc' '''\n",
    "\n",
    "print('Welcome to python traing program'[-4::-4])\n",
    "print('A series of characters designated as one object known as a string'[2:18:5])"
   ]
  },
  {
   "cell_type": "code",
   "execution_count": null,
   "metadata": {},
   "outputs": [],
   "source": [
    "'''5. Predict the output for the given code snippet and justify the result.\n",
    "print('A series of characters designated as one object known as a string'[::-1][4::3])\n",
    "print(-----------)\n",
    "print('Welcome to Python traing program'[3:10][::-1])'''\n",
    "\n",
    "taawkcbe   tgestrcoeeA\n",
    "-----------\n",
    "ot emoc\n",
    "\n",
    "#1st line : [::-1] is the slice operator use to reverse the given string then we get 'gnirts a sa nwonk tcejbo eno sa detan gised sretcarahc fo seires A',After that [4:3] is the slice to take every 3rd character from 4th index position so, we get 'taawkcbe  tgestrcoeeA'\n",
    "#2nd line : ------------prints directly as ii is in a print statement\n",
    "#3rd line : [3:10] is the slice operator is used to print the given string from 3rd index to 10th index then we get 'come to',After that [::-1] used to reverse the string as'ot emoc'"
   ]
  },
  {
   "cell_type": "code",
   "execution_count": null,
   "metadata": {},
   "outputs": [],
   "source": [
    "'''6. Predict the output for the given code snippet and justify the result\n",
    "a.\n",
    "str1=True\n",
    "x=5>3\n",
    "print(str==x)\n",
    "y=5>8\n",
    "printstr1==y)'''\n",
    "\n",
    "True\n",
    "False\n",
    "\n",
    "#1st line print statement says str1==x .Value of x is 5>3 is True ,then str1 is True \n",
    "#2nd line print statement says str1==y .Value of y is 5>8 is False,then str1 is False"
   ]
  },
  {
   "cell_type": "code",
   "execution_count": null,
   "metadata": {},
   "outputs": [],
   "source": [
    "'''b. \n",
    "num=7\n",
    "Name=\"Michael Jackson\"\n",
    "sear_num=Name.find('el')\n",
    "print(num>sear_num)'''\n",
    "\n",
    "True\n",
    "\n",
    "#The index of 'e' in 'el' is 5 and the num==7 ,it means num>num_sear which is true "
   ]
  },
  {
   "cell_type": "code",
   "execution_count": 6,
   "metadata": {},
   "outputs": [
    {
     "name": "stdout",
     "output_type": "stream",
     "text": [
      "was it a car or a cat I saw\n",
      "WAS I TAC A RO RAC A TI SAW\n"
     ]
    }
   ],
   "source": [
    "'''7. Write a python code to get desired output\n",
    "Input string : p_phrase = \"was it a car or a cat I saw\"\n",
    "Output string : WAS I TAC A RO RAC A TI SAW'''\n",
    "\n",
    "p_phrase=input()\n",
    "p_phrase=p_phrase.upper()\n",
    "print(p_phrase[::-1])"
   ]
  },
  {
   "cell_type": "code",
   "execution_count": 7,
   "metadata": {},
   "outputs": [
    {
     "name": "stdout",
     "output_type": "stream",
     "text": [
      "1934567\n",
      "946\n"
     ]
    }
   ],
   "source": [
    "'''8. Write a python code to print integer value : 946\n",
    "Input string : A='1934567' '''\n",
    "\n",
    "A=input()\n",
    "print(A[1::2])"
   ]
  },
  {
   "cell_type": "code",
   "execution_count": 9,
   "metadata": {},
   "outputs": [
    {
     "name": "stdout",
     "output_type": "stream",
     "text": [
      "['EKIL', 'GNIDERPS', 'ROF', 'KCANK']\n"
     ]
    }
   ],
   "source": [
    "'''9. Write a python code to get desired output\n",
    "In : fake_phrase=\"Fake news has a knack for spreding like wild fire\"\n",
    "Out : ['EKIL', 'GNIDAERPS', 'ROF', 'KCANK']'''\n",
    "\n",
    "fake_phrase=\"Fake news has a knack for spreding like wild fire\"\n",
    "fake_phrase=fake_phrase.upper()[-11:-35:-1]\n",
    "x=fake_phrase.split()\n",
    "print(x)"
   ]
  },
  {
   "cell_type": "code",
   "execution_count": 10,
   "metadata": {},
   "outputs": [
    {
     "name": "stdout",
     "output_type": "stream",
     "text": [
      "['Facebook', 'alredy', 'uses', 'AI', 'to', 'Filter', 'Fake', 'stories', 'from', 'the', 'feeds', 'of', 'users']\n"
     ]
    }
   ],
   "source": [
    "'''10. Write a python code to get desired output \n",
    "msg1=\"Facebook already uses AI to Filter Fake stories from the feed of users\"\n",
    "out : [Facebook , already , uses , AI , to , Filter , Fake , stories , from , the , feeds , of , users]'''\n",
    "\n",
    "msg1=\"Facebook alredy uses AI to Filter Fake stories from the feeds of users\"\n",
    "print(msg1.split())"
   ]
  },
  {
   "cell_type": "code",
   "execution_count": null,
   "metadata": {},
   "outputs": [],
   "source": [
    "'''11. Predict the output for given code snippet. justify the result.\n",
    "msg2=\"Welcome to sr engineering college\"\n",
    "x=write the logic to count the occurance of o in msg2 - expected 3\n",
    "y=write the logic to count the occurance of r in msg2 - expected 2\n",
    "msg2[y**x:(x**y+x+y):][::-1]'''\n",
    "\n",
    "'rs ot'\n",
    "\n",
    "#Value of x is 3 and y is 2.y**x=8 and x**y+x+y=14.\n",
    "#So the value of msg2[y**x:(x**y+x+y):]=msg2[8:14]will be 'to sr'\n",
    "#by using[::-1] slice operator the string gets reverse as 'rs ot'"
   ]
  },
  {
   "cell_type": "code",
   "execution_count": null,
   "metadata": {},
   "outputs": [],
   "source": [
    "'''12 a.\n",
    "num1,num2=\"94\",\"30\"\n",
    "data=\"As per cencus 2011 , Gender ratio of India is 943 females per 100 males\"\n",
    "num1+num2[0] in data'''\n",
    "\n",
    "True\n",
    "\n",
    "#num1 is '94' and num[0] is '3'.so num1+num2[0] is '943' which is present in data .the output will be True"
   ]
  },
  {
   "cell_type": "code",
   "execution_count": null,
   "metadata": {},
   "outputs": [],
   "source": [
    "'''12 b.\n",
    "print(data[:45],print(int(num1)+int(num2)))'''\n",
    "\n",
    "124\n",
    "As per cencus 2011,gender ratio of India is None"
   ]
  },
  {
   "cell_type": "code",
   "execution_count": 16,
   "metadata": {},
   "outputs": [
    {
     "name": "stdout",
     "output_type": "stream",
     "text": [
      "Enter the amount of water (in kilograms):5\n",
      "Enter the initial temperature(in celcius):20\n",
      "Enter the final temperature(in celcius):75\n",
      "Energy measured in 1150600.0 joules\n"
     ]
    }
   ],
   "source": [
    "'''13. Develop a program that calculates the energy needed to heat water from an initial temperature to a final temperature\n",
    "You program should should prompt the user to enter the amount of water in kilograms and the initial and final temperatures of the water.The formula to compute the energy is Q = M * (finalTemperature-initialTemperature) * 4184\n",
    "Whwre M is the water in kilograms, temperatures are in degree celcius and energy Q is measured in joules'''\n",
    "\n",
    "M=float(input('Enter the amount of water (in kilograms):'))\n",
    "initialTemperature=float(input('Enter the initial temperature(in celcius):'))\n",
    "finalTemperature=float(input('Enter the final temperature(in celcius):'))\n",
    "Q = M * (finalTemperature - initialTemperature) * 4184\n",
    "print(f'Energy measured in {Q} joules')"
   ]
  },
  {
   "cell_type": "code",
   "execution_count": 32,
   "metadata": {},
   "outputs": [
    {
     "name": "stdout",
     "output_type": "stream",
     "text": [
      "Enter Number : 2\n",
      "ZZOOOO\n"
     ]
    }
   ],
   "source": [
    "'''14. You are required to generate a word similar to ZOO, X ana Y that denote the number of Zs and Os respectively. The generated word similar to ZOO where Y = 2 * X'''\n",
    "\n",
    "X=int(input('Enter Number : '))\n",
    "Y=2*X\n",
    "Z=('Z'*X)+('O'*Y)\n",
    "print(Z)"
   ]
  },
  {
   "cell_type": "code",
   "execution_count": 25,
   "metadata": {},
   "outputs": [
    {
     "name": "stdout",
     "output_type": "stream",
     "text": [
      "Enter 1st integer : 2\n",
      "Enter 2nd integer : 4\n",
      "16\n",
      "0\n",
      "6\n"
     ]
    }
   ],
   "source": [
    "'''15. Read two integers X , Y from STDIN and print three lines where:\n",
    "1. The first line print , X to the power of Y (store the results into pow)\n",
    "2. The second line prints the floor division between pow and product of X and Y (store the results into div)\n",
    "3. The third line prints the exclusive or (^) between div and sum of X and Y'''\n",
    "\n",
    "X=int(input('Enter 1st integer : '))\n",
    "Y=int(input('Enter 2nd integer : '))\n",
    "pow=X**Y\n",
    "div=X//Y\n",
    "print(pow)\n",
    "print(div)\n",
    "print(div^(X+Y))"
   ]
  }
 ],
 "metadata": {
  "kernelspec": {
   "display_name": "Python 3",
   "language": "python",
   "name": "python3"
  },
  "language_info": {
   "codemirror_mode": {
    "name": "ipython",
    "version": 3
   },
   "file_extension": ".py",
   "mimetype": "text/x-python",
   "name": "python",
   "nbconvert_exporter": "python",
   "pygments_lexer": "ipython3",
   "version": "3.7.6"
  }
 },
 "nbformat": 4,
 "nbformat_minor": 4
}

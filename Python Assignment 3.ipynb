{
 "cells": [
  {
   "cell_type": "code",
   "execution_count": 9,
   "metadata": {},
   "outputs": [
    {
     "name": "stdout",
     "output_type": "stream",
     "text": [
      "Enter the first side:4\n",
      "Enter the second side:13\n",
      "enter the third side:15\n",
      "Area of triangle = 24.0\n"
     ]
    }
   ],
   "source": [
    "# Question 1\n",
    "a = int(input('Enter the first side:'))\n",
    "b = int(input('Enter the second side:'))\n",
    "c = int(input('enter the third side:'))\n",
    "s = (a+b+c)/2\n",
    "area = (s*(s-a)*(s-b)*(s-c))**0.5\n",
    "print(f'Area of triangle = {area}')"
   ]
  },
  {
   "cell_type": "code",
   "execution_count": 11,
   "metadata": {},
   "outputs": [
    {
     "name": "stdout",
     "output_type": "stream",
     "text": [
      "Enter a string:mom\n",
      "mom is palindrome\n"
     ]
    }
   ],
   "source": [
    "# Question 2\n",
    "string = input('Enter a string:')\n",
    "if string == string[::-1]:\n",
    "    print(f'{string} is palindrome')\n",
    "else:\n",
    "    print(f'{string} is not palindrome')"
   ]
  },
  {
   "cell_type": "code",
   "execution_count": 13,
   "metadata": {},
   "outputs": [
    {
     "name": "stdout",
     "output_type": "stream",
     "text": [
      "Enter year:2000\n",
      "2000 is leap year\n"
     ]
    }
   ],
   "source": [
    "# Question 3\n",
    "year = int(input('Enter year:'))\n",
    "if year % 4 == 0:\n",
    "    print(f'{year} is leap year')\n",
    "else:\n",
    "    print(f'{year} is not leap year')"
   ]
  },
  {
   "cell_type": "code",
   "execution_count": 17,
   "metadata": {},
   "outputs": [
    {
     "name": "stdout",
     "output_type": "stream",
     "text": [
      "Enter a string:This program converts spaces into hyphen\n"
     ]
    },
    {
     "data": {
      "text/plain": [
       "'This-program-converts-spaces-into-hyphen'"
      ]
     },
     "execution_count": 17,
     "metadata": {},
     "output_type": "execute_result"
    }
   ],
   "source": [
    "# Question 4\n",
    "string = input('Enter a string:')\n",
    "i = string.replace(' ','-')\n",
    "i"
   ]
  },
  {
   "cell_type": "code",
   "execution_count": 14,
   "metadata": {},
   "outputs": [
    {
     "name": "stdout",
     "output_type": "stream",
     "text": [
      "Enter a string:orange,white,red,cyan,green,magenta,cyan,pink,white\n",
      "cyan,green,magenta,orange,pink,red,white\n"
     ]
    }
   ],
   "source": [
    "# Question 5\n",
    "string = input('Enter a string:')\n",
    "stringlist=string.split(',')\n",
    "stringset=set(stringlist)\n",
    "stringlist=list(stringset)\n",
    "stringlist.sort()\n",
    "Output=','.join(stringlist)\n",
    "print(Output)"
   ]
  },
  {
   "cell_type": "code",
   "execution_count": 13,
   "metadata": {},
   "outputs": [
    {
     "name": "stdout",
     "output_type": "stream",
     "text": [
      "Enter total income:1000000\n",
      "Tax to be paid = 150000.0\n"
     ]
    }
   ],
   "source": [
    "# Question 6\n",
    "income = int(input('Enter total income:'))\n",
    "if income <= 250000:\n",
    "    tax_rate = 0\n",
    "elif income <= 500000:\n",
    "    tax_rate = income*5/100\n",
    "elif income <= 750000:\n",
    "    tax_rate = income*10/100\n",
    "elif income <= 1000000:\n",
    "    tax_rate = income*15/100\n",
    "elif income <= 1250000:\n",
    "    tax_rate = income*20/100\n",
    "elif income <= 1500000:\n",
    "    tax_rate = income*25/100\n",
    "elif income >= 1500000:\n",
    "    tax_rate = income*30/100\n",
    "else:\n",
    "    print('Invalid income')\n",
    "print(f'Tax to be paid = {tax_rate}')    \n",
    "        "
   ]
  },
  {
   "cell_type": "code",
   "execution_count": 1,
   "metadata": {},
   "outputs": [
    {
     "name": "stdout",
     "output_type": "stream",
     "text": [
      "Enter number of elements in list: 3\n",
      "Enter number: 11\n",
      "Enter number: 33\n",
      "Enter number: 50\n",
      "113350\n"
     ]
    }
   ],
   "source": [
    "# Question 7\n",
    "def appendlist(n):\n",
    "    numlist=[]\n",
    "    s=''\n",
    "    for i in range(0,n):\n",
    "        num=int(input('Enter number: '))\n",
    "        numlist.append(num)\n",
    "        s=s+str(num)\n",
    "    num=str(s)\n",
    "    return num\n",
    "n=int(input('Enter number of elements in list: '))\n",
    "print(appendlist(n))"
   ]
  },
  {
   "cell_type": "code",
   "execution_count": null,
   "metadata": {},
   "outputs": [],
   "source": [
    "# Question 8\n",
    "d = int(input('Enter days :'))\n",
    "h = int(input('Enter hours :'))\n",
    "m = int(input('Enter minutes :'))\n",
    "s = int(input('Enter seconds :'))\n",
    "d*=24*60*60\n",
    "h*=60*60\n",
    "m*=60\n",
    "t = d+h+m+s\n",
    "print(f'Total seconds = {t}')"
   ]
  },
  {
   "cell_type": "code",
   "execution_count": 6,
   "metadata": {},
   "outputs": [
    {
     "name": "stdout",
     "output_type": "stream",
     "text": [
      "Enter 1st number :5\n",
      "Enter 2nd number :2\n",
      "Enter 3rd number :6\n",
      "6 5 2\n"
     ]
    }
   ],
   "source": [
    "# Question 9\n",
    "num1 = int(input('Enter 1st number :'))\n",
    "num2 = int(input('Enter 2nd number :'))\n",
    "num3 = int(input('Enter 3rd number :'))\n",
    "maximum = max(num1,num2,num3)\n",
    "minimum = min(num1,num2,num3)\n",
    "mid = num1+num2+num3-maximum-minimum\n",
    "print(maximum,mid,minimum)"
   ]
  },
  {
   "cell_type": "code",
   "execution_count": 9,
   "metadata": {},
   "outputs": [
    {
     "name": "stdout",
     "output_type": "stream",
     "text": [
      "Enter year:2020\n",
      "Enter month:02\n",
      "Enter date:28\n",
      "Next Date is [YYYY-MM-DD]:2020-2-29\n"
     ]
    }
   ],
   "source": [
    "# Question 10\n",
    "year = int(input('Enter year:'))\n",
    "month = int(input('Enter month:'))\n",
    "date = int(input('Enter date:'))\n",
    "if year%4==0:\n",
    "    leapyear = True\n",
    "else:\n",
    "    leapyear = False\n",
    "if month==2:\n",
    "    if leapyear:\n",
    "        days=29\n",
    "    else:\n",
    "        days=28\n",
    "elif month in(4,6,9,11):\n",
    "    days=30\n",
    "else:\n",
    "    days=31\n",
    "if date<days:\n",
    "    date=date+1\n",
    "else:\n",
    "    date=1\n",
    "    year=year+1\n",
    "print(f'Next Date is [YYYY-MM-DD]:{year}-{month}-{date}')    "
   ]
  },
  {
   "cell_type": "code",
   "execution_count": 11,
   "metadata": {},
   "outputs": [
    {
     "name": "stdout",
     "output_type": "stream",
     "text": [
      "Output = 121111200\n"
     ]
    }
   ],
   "source": [
    "# Question 11\n",
    "list = [45,3,2,89,72,1,10,7]\n",
    "product = 1\n",
    "for i in list:\n",
    "    product*=i\n",
    "print(f'Output = {product}')    "
   ]
  },
  {
   "cell_type": "code",
   "execution_count": 2,
   "metadata": {},
   "outputs": [
    {
     "name": "stdout",
     "output_type": "stream",
     "text": [
      "[11, 14, 42, 123, 90]\n"
     ]
    }
   ],
   "source": [
    "# Question 12\n",
    "Num_list = [5,6,8,34,89,1]\n",
    "Out_list = []\n",
    "j = 0\n",
    "for i in Num_list:\n",
    "    j+=1\n",
    "    if j<len(Num_list):\n",
    "        Out_list.append(i+Num_list[j])\n",
    "print(Out_list)        "
   ]
  },
  {
   "cell_type": "code",
   "execution_count": 6,
   "metadata": {},
   "outputs": [
    {
     "name": "stdout",
     "output_type": "stream",
     "text": [
      "[5, 30, 240, 720, 6480, 6480]\n"
     ]
    }
   ],
   "source": [
    "# Question 13\n",
    "Num_tuple = (5,6,8,3,9,1)\n",
    "i = 1\n",
    "Out_list = []\n",
    "for j in Num_tuple:\n",
    "    i=i*j\n",
    "    Out_list.append(i)\n",
    "print(Out_list)    "
   ]
  },
  {
   "cell_type": "code",
   "execution_count": 10,
   "metadata": {},
   "outputs": [
    {
     "name": "stdout",
     "output_type": "stream",
     "text": [
      "Enter number :568392\n",
      "[5, 6, 8, 3, 9, 2]\n"
     ]
    }
   ],
   "source": [
    "# Question 14\n",
    "n = int(input('Enter number :'))\n",
    "list = []\n",
    "for i in str(n):\n",
    "    list.append(int(i))\n",
    "print(list)    "
   ]
  },
  {
   "cell_type": "code",
   "execution_count": 9,
   "metadata": {},
   "outputs": [
    {
     "name": "stdout",
     "output_type": "stream",
     "text": [
      "Enter a string:popcorn\n",
      "pop\n"
     ]
    }
   ],
   "source": [
    "# Question 15\n",
    "def subpalindromestr(s):\n",
    "    palindrome = 0\n",
    "    for i in range(0,len(s)):\n",
    "        for j in range(i+1,len(s)):\n",
    "            if s[i:j] == s[j:i:-1]:\n",
    "                if len(s[i:j])>palindrome:\n",
    "                    palindrome=len(s[i:j])\n",
    "                    palindromestring=(s[i:j+1])\n",
    "                    palindrome=1\n",
    "    if palindrome:\n",
    "        return palindromestring\n",
    "    else:\n",
    "        return 'Not palindrome'\n",
    "s = input('Enter a string:')\n",
    "print(subpalindromestr(s))    "
   ]
  },
  {
   "cell_type": "code",
   "execution_count": 11,
   "metadata": {},
   "outputs": [
    {
     "name": "stdout",
     "output_type": "stream",
     "text": [
      "Enter 10 digits binary number:1010110011\n",
      "Enter 5 digits binary number:10110\n",
      "b is a substring of a\n"
     ]
    }
   ],
   "source": [
    "# Question 16\n",
    "a = input('Enter 10 digits binary number:')\n",
    "b = input('Enter 5 digits binary number:')\n",
    "c = 0\n",
    "for i in range(0,len(a)):\n",
    "    if a[i:i+len(b)]==b:\n",
    "        c+=1\n",
    "if c==0:\n",
    "    print('b is a not substring of a')\n",
    "else:\n",
    "    print('b is a substring of a')"
   ]
  },
  {
   "cell_type": "code",
   "execution_count": 1,
   "metadata": {},
   "outputs": [
    {
     "name": "stdout",
     "output_type": "stream",
     "text": [
      "Enter test cases no.: 2\n",
      "Enter capacity of 1st vessel: 5\n",
      "Enter capacity of 2nd vessel: 2\n",
      "Enter required litres of water: 3\n",
      "2\n",
      "Enter capacity of 1st vessel: 2\n",
      "Enter capacity of 2nd vessel: 3\n",
      "Enter required litres of water: 4\n",
      "-1\n"
     ]
    }
   ],
   "source": [
    "def pourwater(p,q,r):\n",
    "    v1 = 0\n",
    "    v2 = 0\n",
    "    step = 0\n",
    "    while v1 != r and v2 != r:\n",
    "        if v2 == 0: \n",
    "            v2 = q \n",
    "            step+=1\n",
    "        if v1 == p: \n",
    "            v1 = 0\n",
    "            step+=1\n",
    "        if v2<p-v1:\n",
    "            t = v2\n",
    "        else:\n",
    "            t=p-v1\n",
    "        v1+=t\n",
    "        v2-=t\n",
    "        step+=1\n",
    "    return step\n",
    "        \n",
    "n=int(input('Enter test cases no.: '))\n",
    "for i in range(0,n):\n",
    "    p=int(input('Enter capacity of 1st vessel: '))\n",
    "    q=int(input('Enter capacity of 2nd vessel: '))\n",
    "    r=int(input('Enter required litres of water: '))\n",
    "    if p<r and q<r:\n",
    "        output=-1\n",
    "    else:\n",
    "        if pourwater(p,q,r)<pourwater(q,p,r):\n",
    "            output=pourwater(p,q,r)\n",
    "        else:\n",
    "            output=pourwater(q,p,r)\n",
    "    print(output)\n"
   ]
  }
 ],
 "metadata": {
  "kernelspec": {
   "display_name": "Python 3",
   "language": "python",
   "name": "python3"
  },
  "language_info": {
   "codemirror_mode": {
    "name": "ipython",
    "version": 3
   },
   "file_extension": ".py",
   "mimetype": "text/x-python",
   "name": "python",
   "nbconvert_exporter": "python",
   "pygments_lexer": "ipython3",
   "version": "3.7.6"
  }
 },
 "nbformat": 4,
 "nbformat_minor": 4
}

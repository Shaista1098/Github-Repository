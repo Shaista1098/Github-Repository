{
 "cells": [
  {
   "cell_type": "code",
   "execution_count": 3,
   "metadata": {},
   "outputs": [
    {
     "name": "stdout",
     "output_type": "stream",
     "text": [
      "Enter year :2000\n",
      "dragon\n"
     ]
    }
   ],
   "source": [
    "# Question 1\n",
    "year = int(input('Enter year :'))\n",
    "if year % 12 == 0:\n",
    "    print('monkey')\n",
    "elif year % 12 == 1:\n",
    "    print('rooster')\n",
    "elif year % 12 == 2:\n",
    "    print('dog')\n",
    "elif year % 12 == 3:\n",
    "    print('pig')\n",
    "elif year % 12 == 4:\n",
    "    print('rat')\n",
    "elif year % 12 == 5:\n",
    "    print('ox')\n",
    "elif year % 12 == 6:\n",
    "    print('tiger')\n",
    "elif year % 12 == 7:\n",
    "    print('rabbit')\n",
    "elif year % 12 == 8:\n",
    "    print('dragon')\n",
    "elif year % 12 == 9:\n",
    "    print('snake')\n",
    "elif year % 12 == 10:\n",
    "    print('horse')\n",
    "elif year % 12 == 11:\n",
    "    print('sheep')\n",
    "else:\n",
    "    print('-------')"
   ]
  },
  {
   "cell_type": "code",
   "execution_count": 8,
   "metadata": {},
   "outputs": [
    {
     "name": "stdout",
     "output_type": "stream",
     "text": [
      "Distance to be travel: 520\n",
      "Weight of the goods: 50\n",
      "Amount to be charged: 3120/-\n"
     ]
    }
   ],
   "source": [
    "# Question 2\n",
    "distance = int(input('Distance to be travel: '))\n",
    "weight = int(input('Weight of the goods: '))\n",
    "if distance >= 500:\n",
    "    if weight >= 100:\n",
    "        amount = 5 * distance\n",
    "    elif 10 <= weight < 100:\n",
    "        amount = 6 * distance\n",
    "    else:\n",
    "        amount = 7 * distance\n",
    "else:\n",
    "    if weight >= 100:\n",
    "        amount = 8 * distance\n",
    "    else:\n",
    "        amount = 5 * distance\n",
    "print('Amount to be charged: '+str(amount)+'/-')        \n",
    "    "
   ]
  },
  {
   "cell_type": "code",
   "execution_count": 3,
   "metadata": {},
   "outputs": [
    {
     "name": "stdout",
     "output_type": "stream",
     "text": [
      "Type of seat: Circle\n",
      "Payment mode: cash\n",
      "Cost of ticket: 675\n"
     ]
    }
   ],
   "source": [
    "# Question 3\n",
    "seats = input('Type of seat: ')\n",
    "if seats == 'Stalls':\n",
    "    rate = 625\n",
    "elif seats == 'Circle':\n",
    "    rate = 750\n",
    "elif seats == 'Upper Class':\n",
    "    rate = 850\n",
    "elif seats == 'Box':\n",
    "    rate = 1000\n",
    "else:\n",
    "    print('Invalid') \n",
    "payment_mode = input('Payment mode: ')\n",
    "if payment_mode == 'cash':\n",
    "    rate = rate * 90/100\n",
    "elif payment_mode == 'Credit card':\n",
    "    rate = rate * 95/100\n",
    "else:\n",
    "    print('Invalid payment mode')\n",
    "print('Cost of ticket: '+str(int(rate)))"
   ]
  },
  {
   "cell_type": "code",
   "execution_count": 1,
   "metadata": {},
   "outputs": [
    {
     "name": "stdout",
     "output_type": "stream",
     "text": [
      "Enter the amount of water (in kilograms):5\n",
      "Enter the initial temperature of water (in celcius):20\n",
      "Enter the final temperature of water (in celsius):35\n",
      "Energy required to heat the water = 313800 joules\n"
     ]
    }
   ],
   "source": [
    "# Question 4\n",
    "M = int(input('Enter the amount of water (in kilograms):'))\n",
    "initialTemperature = int(input('Enter the initial temperature of water (in celcius):'))\n",
    "finalTemperature = int(input('Enter the final temperature of water (in celsius):'))\n",
    "Q = M * (finalTemperature - initialTemperature) * 4184\n",
    "print(f'Energy required to heat the water = {Q} joules')"
   ]
  },
  {
   "cell_type": "code",
   "execution_count": 7,
   "metadata": {},
   "outputs": [
    {
     "name": "stdout",
     "output_type": "stream",
     "text": [
      "Enter a month name: April\n",
      "Spring\n"
     ]
    }
   ],
   "source": [
    "# Question 5\n",
    "month = input('Enter a month name: ')\n",
    "if month == 'December' or month == 'January' or month == 'Febrauary':\n",
    "    season  = 'Winter'\n",
    "elif month == 'March' or month == 'April' or month == 'May':\n",
    "    season = 'Spring'\n",
    "elif month == 'June' or month == 'July' or month == 'August':\n",
    "    season = 'Summer'\n",
    "elif month == month == 'September' or month == 'October' or month == 'November':\n",
    "    season = 'Autumn'\n",
    "else:\n",
    "    print('Invalid Input')\n",
    "print(season)    "
   ]
  },
  {
   "cell_type": "code",
   "execution_count": 10,
   "metadata": {},
   "outputs": [
    {
     "name": "stdout",
     "output_type": "stream",
     "text": [
      "Enter the weight (in pounds):65.5\n",
      "Enter the height (in inches):59\n",
      "BMI = 13.229260978559305, you are Underweight\n"
     ]
    }
   ],
   "source": [
    "# Question 6\n",
    "weight = float(input('Enter the weight (in pounds):'))\n",
    "height = float(input('Enter the height (in inches):'))\n",
    "weight = weight * 0.45359237\n",
    "height = height * 0.0254\n",
    "bmi = weight/(height**2)\n",
    "if bmi < 18.5:\n",
    "    BMI = \"Underweight\"\n",
    "elif bmi < 25 :\n",
    "    BMI = 'Normal'\n",
    "elif bmi < 30:\n",
    "    BMI = 'Overweight'\n",
    "else:\n",
    "    BMI = 'Obese'\n",
    "print(f'BMI = {bmi}, you are {BMI}')    "
   ]
  },
  {
   "cell_type": "code",
   "execution_count": 13,
   "metadata": {},
   "outputs": [
    {
     "name": "stdout",
     "output_type": "stream",
     "text": [
      "Enter a number:745\n",
      "16\n"
     ]
    }
   ],
   "source": [
    "# Question 7 \n",
    "n = int(input('Enter a number:'))\n",
    "sum = 0\n",
    "while n != 0 :\n",
    "    r=n%10\n",
    "    sum+=r\n",
    "    n=n//10\n",
    "print(sum)    "
   ]
  },
  {
   "cell_type": "code",
   "execution_count": 4,
   "metadata": {},
   "outputs": [
    {
     "name": "stdout",
     "output_type": "stream",
     "text": [
      "1\n",
      "2\n",
      "3\n",
      "4\n",
      "5\n",
      "6\n",
      "7\n",
      "8\n",
      "9\n",
      "11\n",
      "22\n",
      "33\n",
      "44\n",
      "55\n",
      "66\n",
      "77\n",
      "88\n",
      "99\n",
      "101\n",
      "111\n",
      "121\n",
      "131\n",
      "141\n",
      "151\n",
      "161\n",
      "171\n",
      "181\n",
      "191\n",
      "202\n",
      "212\n",
      "222\n",
      "232\n",
      "242\n",
      "252\n",
      "262\n",
      "272\n",
      "282\n",
      "292\n",
      "303\n",
      "313\n",
      "323\n",
      "333\n",
      "343\n",
      "353\n",
      "363\n",
      "373\n",
      "383\n",
      "393\n",
      "404\n",
      "414\n",
      "424\n",
      "434\n",
      "444\n",
      "454\n",
      "464\n",
      "474\n",
      "484\n",
      "494\n",
      "505\n",
      "515\n",
      "525\n",
      "535\n",
      "545\n",
      "555\n",
      "565\n",
      "575\n",
      "585\n",
      "595\n",
      "606\n",
      "616\n",
      "626\n",
      "636\n",
      "646\n",
      "656\n",
      "666\n",
      "676\n",
      "686\n",
      "696\n",
      "707\n",
      "717\n",
      "727\n",
      "737\n",
      "747\n",
      "757\n",
      "767\n",
      "777\n",
      "787\n",
      "797\n",
      "808\n",
      "818\n",
      "828\n",
      "838\n",
      "848\n",
      "858\n",
      "868\n",
      "878\n",
      "888\n",
      "898\n",
      "909\n",
      "919\n",
      "929\n",
      "939\n",
      "949\n",
      "959\n",
      "969\n",
      "979\n",
      "989\n",
      "999\n"
     ]
    }
   ],
   "source": [
    "# Question 8\n",
    "for i in range(1,1001):\n",
    "    t=i\n",
    "    s=0\n",
    "    while i>0 :\n",
    "        r=i%10\n",
    "        s=s*10+r\n",
    "        i=i//10\n",
    "    if s==t:\n",
    "        print(s)"
   ]
  },
  {
   "cell_type": "code",
   "execution_count": 1,
   "metadata": {},
   "outputs": [
    {
     "name": "stdout",
     "output_type": "stream",
     "text": [
      "1\n",
      "2\n",
      "Fizz\n",
      "4\n",
      "Buzz\n",
      "Fizz\n",
      "7\n",
      "8\n",
      "Fizz\n",
      "Buzz\n",
      "11\n",
      "Fizz\n",
      "13\n",
      "14\n",
      "Fizz Buzz\n",
      "16\n",
      "17\n",
      "Fizz\n",
      "19\n",
      "Buzz\n",
      "Fizz\n",
      "22\n",
      "23\n",
      "Fizz\n",
      "Buzz\n",
      "26\n",
      "Fizz\n",
      "28\n",
      "29\n",
      "Fizz Buzz\n",
      "31\n",
      "32\n",
      "Fizz\n",
      "34\n",
      "Buzz\n",
      "Fizz\n",
      "37\n",
      "38\n",
      "Fizz\n",
      "Buzz\n",
      "41\n",
      "Fizz\n",
      "43\n",
      "44\n",
      "Fizz Buzz\n",
      "46\n",
      "47\n",
      "Fizz\n",
      "49\n",
      "Buzz\n",
      "Fizz\n",
      "52\n",
      "53\n",
      "Fizz\n",
      "Buzz\n",
      "56\n",
      "Fizz\n",
      "58\n",
      "59\n",
      "Fizz Buzz\n",
      "61\n",
      "62\n",
      "Fizz\n",
      "64\n",
      "Buzz\n",
      "Fizz\n",
      "67\n",
      "68\n",
      "Fizz\n",
      "Buzz\n",
      "71\n",
      "Fizz\n",
      "73\n",
      "74\n",
      "Fizz Buzz\n",
      "76\n",
      "77\n",
      "Fizz\n",
      "79\n",
      "Buzz\n",
      "Fizz\n",
      "82\n",
      "83\n",
      "Fizz\n",
      "Buzz\n",
      "86\n",
      "Fizz\n",
      "88\n",
      "89\n",
      "Fizz Buzz\n",
      "91\n",
      "92\n",
      "Fizz\n",
      "94\n",
      "Buzz\n",
      "Fizz\n",
      "97\n",
      "98\n",
      "Fizz\n",
      "Buzz\n"
     ]
    }
   ],
   "source": [
    "# Question 9\n",
    "for i in range(1,101):\n",
    "    if i%3==0 and i%5==0:\n",
    "        print('Fizz Buzz')\n",
    "    elif i%3==0:\n",
    "        print('Fizz')\n",
    "    elif i%5==0:\n",
    "        print('Buzz')\n",
    "    else:\n",
    "        print(i)"
   ]
  },
  {
   "cell_type": "code",
   "execution_count": 4,
   "metadata": {},
   "outputs": [
    {
     "name": "stdout",
     "output_type": "stream",
     "text": [
      "1\n",
      "153\n",
      "370\n",
      "371\n",
      "407\n"
     ]
    }
   ],
   "source": [
    "# Question 10\n",
    "for i in range(1,1001):\n",
    "    s=0\n",
    "    t=i\n",
    "    while i>0:\n",
    "        r=i%10\n",
    "        s+=r*r*r\n",
    "        i=i//10\n",
    "    if s==t:\n",
    "        print(t)"
   ]
  },
  {
   "cell_type": "code",
   "execution_count": 2,
   "metadata": {},
   "outputs": [
    {
     "name": "stdout",
     "output_type": "stream",
     "text": [
      "Height of the well:200\n",
      "Meters climbed up in each step:50\n",
      "Meters slipped down in each step:1\n",
      "Steps required to get out of well = 5\n"
     ]
    }
   ],
   "source": [
    "# Question 11\n",
    "h = int(input('Height of the well:'))\n",
    "u = int(input('Meters climbed up in each step:'))\n",
    "d  = int(input('Meters slipped down in each step:'))\n",
    "count=((h-u)+(u-d))//(u-d)\n",
    "print(f'Steps required to get out of well = {count+1}')    \n",
    "    "
   ]
  }
 ],
 "metadata": {
  "kernelspec": {
   "display_name": "Python 3",
   "language": "python",
   "name": "python3"
  },
  "language_info": {
   "codemirror_mode": {
    "name": "ipython",
    "version": 3
   },
   "file_extension": ".py",
   "mimetype": "text/x-python",
   "name": "python",
   "nbconvert_exporter": "python",
   "pygments_lexer": "ipython3",
   "version": "3.7.6"
  }
 },
 "nbformat": 4,
 "nbformat_minor": 4
}
